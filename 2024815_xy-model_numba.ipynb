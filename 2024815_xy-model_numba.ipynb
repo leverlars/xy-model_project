{
 "cells": [
  {
   "cell_type": "markdown",
   "id": "dcc70e91-198c-46bf-8ed0-76c05b65684b",
   "metadata": {},
   "source": [
    "### Numba Python Classical XY-Model"
   ]
  },
  {
   "cell_type": "markdown",
   "id": "3bacf1c1-339b-497e-9adb-95cba7fc5896",
   "metadata": {},
   "source": [
    "The equations:\n",
    "\n",
    "\n",
    "$F[\\vec \\phi]=\\int d^2x[(\\nabla \\vec \\phi)^2+V_0(\\vec \\phi ^2 - 1)^2]$\n",
    "\n",
    "$\\partial _ t \\vec \\phi = -\\Gamma \\delta F / \\delta \\vec \\phi$\n",
    "\n",
    "$ \\langle \\vec \\phi (x,0)\\cdot \\vec \\phi (x',0) \\rangle = \\Delta \\delta (x-x')$\n",
    "\n",
    "\n",
    "The actual equation that I end up solving:\n",
    "\n",
    "$\\frac {d \\vec \\phi}{dt} = - \\Gamma ( V_0 2 \\vec \\phi (\\vec \\phi ^2 - 1) - 2 \\nabla ^2 \\vec \\phi)$\n",
    "\n",
    "I do this for x and y (two seperate equations) with backwards euler 5-point gradiant stencil as numerical scheme."
   ]
  },
  {
   "cell_type": "code",
   "execution_count": 1,
   "id": "c7412bea-8d66-4467-a0f7-4f5e16c9b37c",
   "metadata": {},
   "outputs": [],
   "source": [
    "import numpy as np\n",
    "import matplotlib.pyplot as plt\n",
    "from mpl_toolkits.axes_grid1 import make_axes_locatable\n",
    "from numba import njit, prange\n",
    "import os\n",
    "import imageio.v2 as imageio\n",
    "from IPython.display import Image, display, HTML\n",
    "import time\n",
    "from skimage.feature import peak_local_max\n",
    "from scipy.optimize import curve_fit\n",
    "from natsort import natsorted"
   ]
  },
  {
   "cell_type": "code",
   "execution_count": 2,
   "id": "fb401366-8bb3-45e0-b9d4-647636cc0670",
   "metadata": {},
   "outputs": [],
   "source": [
    "# Constants\n",
    "\n",
    "# The interesting physics parameter :)\n",
    "V_0 = 0.1\n",
    "# Kinetic coefficient (timescale) should be less than or equal to 1 \n",
    "Gamma = 0.5\n",
    "# Determines the order of the initial state (not used)\n",
    "Delta = 1\n",
    "# Scalar\n",
    "s = 1\n",
    "# Size of lattice\n",
    "N = 256\n",
    "M = N\n",
    "# Time step\n",
    "dt = 0.01\n",
    "# Amount of timesteps I want the simulation to run in units: number divided by size of dt\n",
    "T = 1\n",
    "# Seed to reproduce the randomization\n",
    "np.random.seed(69420)\n",
    "# Determines interval between images saved for plotting\n",
    "step_interval = 10"
   ]
  },
  {
   "cell_type": "code",
   "execution_count": 3,
   "id": "cad6bef4-f5b7-4c74-a201-48e823685f77",
   "metadata": {},
   "outputs": [],
   "source": [
    "# Function that initializes a field\n",
    "# N and M can't currently be different because angle_field and scalar_field only uses M\n",
    "@njit\n",
    "def create_vector_field(N, M):\n",
    "    vector_field = np.empty((N, M, 2))\n",
    "    for i in range(N):\n",
    "        for j in range(M):\n",
    "            angle = np.random.uniform(0, 2 * np.pi)\n",
    "            vector_field[i, j, 0] = s * np.cos(angle)\n",
    "            vector_field[i, j, 1] = s * np.sin(angle)\n",
    "    return vector_field\n",
    "\n",
    "vector_matrix = create_vector_field(N, M)\n",
    "#print(\"Vector configuration:\", vector_matrix)\n",
    "# print(vector_matrix[0,0])\n",
    "# print(vector_matrix[4,4])"
   ]
  },
  {
   "cell_type": "code",
   "execution_count": 4,
   "id": "0de0684a-b864-4aec-b50a-f75d3e244991",
   "metadata": {},
   "outputs": [],
   "source": [
    "# Function that calulates the angles of a field\n",
    "@njit\n",
    "def angle_from_field(vector_field):\n",
    "    angle_field = np.empty((N, M))\n",
    "    for i in range(N):\n",
    "        for j in range(M):\n",
    "            angle_field[i, j] = np.arctan2(vector_field[i, j, 1]/s, vector_field[i, j, 0]/s)\n",
    "    return angle_field\n",
    "\n",
    "# Function that calulates the scalars of a field\n",
    "@njit\n",
    "def scalar_from_field(vector_field):\n",
    "    scalar_field = np.empty((N, M))\n",
    "    for i in range(N):\n",
    "        for j in range(M):\n",
    "            scalar_field[i, j] = np.sqrt(vector_field[i, j, 0] ** 2 + vector_field[i, j, 1] ** 2)\n",
    "    return scalar_field\n",
    "\n",
    "#print(\"Angles:\", angle_from_field(vector_matrix))\n",
    "#print(\"Scalars:\", scalar_from_field(vector_matrix))"
   ]
  },
  {
   "cell_type": "code",
   "execution_count": 5,
   "id": "a411cdfa-9c5a-4b83-a5b4-a34e03e34d8f",
   "metadata": {},
   "outputs": [],
   "source": [
    "# Code that plots the starting configuration\n",
    "\n",
    "# fig, axs = plt.subplots(1, 2, figsize=(12, 5))\n",
    "\n",
    "# # Plots the angles\n",
    "# initial_angles = angle_from_field(vector_matrix)\n",
    "# im1 = axs[0].imshow(initial_angles, origin='lower', cmap='hsv', vmin=-np.pi, vmax=np.pi)\n",
    "# axs[0].set_title(\"Angles of starting configuration\")\n",
    "# fig.colorbar(im1, ax=axs[0])\n",
    "\n",
    "# # Plots the scalars\n",
    "# initial_scalars = scalar_from_field(vector_matrix)\n",
    "# im2 = axs[1].imshow(initial_scalars, origin='lower', cmap='inferno', vmin=0, vmax=1)\n",
    "# axs[1].set_title(\"Scalars of starting configuration\")\n",
    "# fig.colorbar(im2, ax=axs[1])\n",
    "\n",
    "# plt.tight_layout()\n",
    "# plt.show()\n",
    "\n",
    "# #print(vector_matrix[0,0])"
   ]
  },
  {
   "cell_type": "code",
   "execution_count": 6,
   "id": "5bf0b79b-4499-4f7b-b335-87ec2650ce0d",
   "metadata": {},
   "outputs": [],
   "source": [
    "# Computes next time step\n",
    "@njit\n",
    "def compute_next_step(vector_field, dt):\n",
    "    derivative = vector_field_derivative(vector_field.copy())\n",
    "    vector_field_next_step = vector_field + dt * derivative\n",
    "    # Vector_field += dt * derivative\n",
    "    return vector_field_next_step\n",
    "\n",
    "# Gets angles and scalars from time step\n",
    "@njit\n",
    "def compute_fields(vector_field):\n",
    "    angle_field = angle_from_field(vector_field.copy())\n",
    "    scalar_field = scalar_from_field(vector_field.copy())\n",
    "    return vector_field.copy(), angle_field, scalar_field"
   ]
  },
  {
   "cell_type": "code",
   "execution_count": 7,
   "id": "e7de4aba-06a6-48d6-9c6a-d8c60067e648",
   "metadata": {},
   "outputs": [],
   "source": [
    "@njit(parallel=True)\n",
    "def vector_field_derivative(vector_field):\n",
    "    vector_field_derived = np.zeros_like(vector_field)\n",
    "    for i in prange(N):\n",
    "        for j in prange(M):\n",
    "            up = (i - 1) % N\n",
    "            down = (i + 1) % N\n",
    "            left = (j - 1) % M\n",
    "            right = (j + 1) % M\n",
    "            \n",
    "            non_linear_term = V_0 * 2 * vector_field[i, j] * ((vector_field[i, j, 0] ** 2 + vector_field[i, j, 1] ** 2) - 1)\n",
    "            laplacian_term = ((vector_field[up, j] + vector_field[down, j] + vector_field[i, left] + vector_field[i, right]) - 4 * vector_field[i, j]) / 1\n",
    "            \n",
    "            vector_field_derived[i, j] = -Gamma * (non_linear_term - 2 * laplacian_term)\n",
    "    \n",
    "    return vector_field_derived"
   ]
  },
  {
   "cell_type": "code",
   "execution_count": 8,
   "id": "0a64e4dc-c3cd-4149-ac99-16103a4b5048",
   "metadata": {},
   "outputs": [
    {
     "name": "stdout",
     "output_type": "stream",
     "text": [
      "3.0668723583221436\n"
     ]
    }
   ],
   "source": [
    "# Runs the simulation in time\n",
    "def time_derivative(vector_field, dt, T):\n",
    "    os.makedirs(\"vector_field_iterations\", exist_ok=True)\n",
    "    os.makedirs(\"angle_field_iterations\", exist_ok=True)\n",
    "    os.makedirs(\"scalar_field_iterations\", exist_ok=True)\n",
    "    \n",
    "    t = np.arange(0, T, dt)\n",
    "    \n",
    "    for i in range(len(t)):\n",
    "        #vector_field = compute_next_step(vector_field.copy(), dt)\n",
    "        vector_field = compute_next_step(vector_field.copy(), dt)\n",
    "        vector_field_iteration, angle_field, scalar_field = compute_fields(vector_field.copy())\n",
    "        \n",
    "        np.save(f\"vector_field_iterations/vector_field_iteration_{i}.npy\", vector_field.copy())\n",
    "        np.save(f\"angle_field_iterations/angle_field_{i}.npy\", angle_field.copy())\n",
    "        np.save(f\"scalar_field_iterations/scalar_field_{i}.npy\", scalar_field.copy())\n",
    "\n",
    "    return [\"vector_field_iterations\", \"angle_field_iterations\", \"scalar_field_iterations\"]\n",
    "\n",
    "t0 = time.time()\n",
    "vector_matrix_simulation = time_derivative(vector_matrix, dt, T)\n",
    "t1 = time.time()\n",
    "total_time = t1-t0\n",
    "print(total_time)"
   ]
  },
  {
   "cell_type": "code",
   "execution_count": 9,
   "id": "80f75210-8da9-4148-b4d3-4013c6c1550f",
   "metadata": {},
   "outputs": [
    {
     "name": "stdout",
     "output_type": "stream",
     "text": [
      "2.2895493507385254\n"
     ]
    }
   ],
   "source": [
    "# Detects peaks to count defects\n",
    "\n",
    "defect_counts = []\n",
    "\n",
    "for filename in natsorted(os.listdir(\"scalar_field_iterations\")):\n",
    "    scalar_field = np.load(os.path.join(\"scalar_field_iterations\", filename))\n",
    "    \n",
    "    coordinates = peak_local_max(-scalar_field + 1, min_distance=3, threshold_rel=0.5, exclude_border=False)\n",
    "    num_defects = len(coordinates)\n",
    "    \n",
    "    defect_counts.append(num_defects)\n",
    "\n",
    "t2 = time.time()\n",
    "second_timing_part = t2-t1\n",
    "print(second_timing_part)"
   ]
  },
  {
   "cell_type": "markdown",
   "id": "6fa52fc6-ac0d-43c5-9cd5-8b6f5fcfcb5c",
   "metadata": {
    "jp-MarkdownHeadingCollapsed": true
   },
   "source": [
    "### Code that saves the simulation as images and GIFs to display"
   ]
  },
  {
   "cell_type": "code",
   "execution_count": 10,
   "id": "e314a7ff-207f-4316-a47a-a0875cb93c19",
   "metadata": {},
   "outputs": [],
   "source": [
    "# # Defines the diretories where our images end up\n",
    "# output_dirs = ['angle_field_images', 'scalar_field_images']\n",
    "# for dir in output_dirs:\n",
    "#     os.makedirs(dir, exist_ok=True)\n",
    "\n",
    "# # Gets lists of files in the directories\n",
    "# angle_files = natsorted(os.listdir(\"angle_field_iterations\"))\n",
    "# scalar_files = natsorted(os.listdir(\"scalar_field_iterations\"))\n",
    "\n",
    "# # Iterates over the files and save plots\n",
    "# for i in range(0, len(angle_files), step_interval):\n",
    "#     angle_field = np.load(os.path.join(\"angle_field_iterations\", angle_files[i]))\n",
    "#     scalar_field = np.load(os.path.join(\"scalar_field_iterations\", scalar_files[i]))\n",
    "\n",
    "#     # Saves the angle field image\n",
    "#     plt.figure(figsize=(5, 5))\n",
    "#     plt.imshow(angle_field, cmap='hsv', interpolation='none', origin='lower', vmin=-np.pi, vmax=np.pi)\n",
    "#     plt.colorbar()\n",
    "#     plt.title(f'Angles for time step {i}')\n",
    "#     plt.savefig(f'angle_field_images/angle_field_{i:03d}.png')\n",
    "#     plt.close()\n",
    "\n",
    "#     # Saves the scalar field image\n",
    "#     plt.figure(figsize=(5, 5))\n",
    "#     plt.imshow(scalar_field, cmap='inferno', interpolation='none', origin='lower', vmin=0, vmax=1)\n",
    "#     plt.colorbar()\n",
    "#     plt.title(f'Scalars for time step {i}')\n",
    "#     plt.savefig(f'scalar_field_images/scalar_field_{i:03d}.png')\n",
    "#     plt.close()"
   ]
  },
  {
   "cell_type": "code",
   "execution_count": 11,
   "id": "c3ff39a6-9377-46c8-8313-4a588b518ac6",
   "metadata": {},
   "outputs": [],
   "source": [
    "# # Function to create GIF from images\n",
    "# def create_gif(image_folder, gif_filename, duration=0.1):\n",
    "#     images = []\n",
    "#     image_files = sorted(os.listdir(image_folder))\n",
    "\n",
    "#     for image_file in image_files:\n",
    "#         filename = os.path.join(image_folder, image_file)\n",
    "#         images.append(imageio.imread(filename))\n",
    "        \n",
    "#     imageio.mimsave(gif_filename, images, duration=duration)\n",
    "\n",
    "# # Create GIFs\n",
    "# create_gif('angle_field_images', 'angle_field_animation.gif')\n",
    "# create_gif('scalar_field_images', 'scalar_field_animation.gif')"
   ]
  },
  {
   "cell_type": "code",
   "execution_count": 12,
   "id": "9f556764-118c-4b12-b59b-43d5af858ef6",
   "metadata": {},
   "outputs": [],
   "source": [
    "# # Display GIFs side by side\n",
    "# display(HTML(\"\"\"\n",
    "# <div style=\"display: flex; justify-content: flex-start; align-items: center;\">\n",
    "#     <img src=\"angle_field_animation.gif\" alt=\"Angle Field Animation\" style=\"margin: 0; padding: 0; width: 49%;\">\n",
    "#     <img src=\"scalar_field_animation.gif\" alt=\"Scalar Field Animation\" style=\"margin: 0; padding: 0; width: 49%;\">\n",
    "# </div>\n",
    "# \"\"\"))"
   ]
  },
  {
   "cell_type": "markdown",
   "id": "f9444608-d8b3-4ee8-a2c0-30ad7d104028",
   "metadata": {},
   "source": [
    "### Data gathered by running the code with different constants followed by data analysis"
   ]
  },
  {
   "cell_type": "code",
   "execution_count": 13,
   "id": "fc427e83-09a5-4a87-9f05-8801f7f85d89",
   "metadata": {},
   "outputs": [],
   "source": [
    "#np.save('V_0_values.npy', np.array([0.1, 1/3, 1, 10/3, 10, 100/3, 100]))\n",
    "#np.save('defect_counts_01.npy', np.array(defect_counts))\n",
    "\n",
    "#For dt=0.01, T=1000, Gamma=0.5, N=256\n",
    "V_0_values = np.load('V_0_values.npy')\n",
    "#print(V_0_values)\n",
    "defect_counts_01 = np.load('defect_counts_01.npy')\n",
    "defect_counts_03 = np.load('defect_counts_03.npy')\n",
    "defect_counts_1 = np.load('defect_counts_1.npy')\n",
    "defect_counts_3 = np.load('defect_counts_3.npy')\n",
    "# defect_counts_10 = np.load('defect_counts_10.npy')\n",
    "# defect_counts_33 = np.load('defect_counts_33.npy')\n",
    "# defect_counts_100 = np.load('defect_counts_100.npy')"
   ]
  },
  {
   "cell_type": "code",
   "execution_count": 14,
   "id": "67d6af4f-a178-4fab-afbd-e550a2243f29",
   "metadata": {},
   "outputs": [],
   "source": [
    "# Define the number of points to remove\n",
    "points_to_remove = 300\n",
    "\n",
    "# Remove the first 300 points from defect_counts and adjust the time steps accordingly\n",
    "filtered_defect_counts = defect_counts[points_to_remove:]\n",
    "filtered_defect_counts_01 = defect_counts_01[points_to_remove:]\n",
    "filtered_defect_counts_03 = defect_counts_03[points_to_remove:]\n",
    "filtered_defect_counts_1 = defect_counts_1[points_to_remove:]\n",
    "filtered_defect_counts_3 = defect_counts_3[points_to_remove:]\n",
    "# filtered_defect_counts_11 = defect_counts_11[points_to_remove:]\n",
    "filtered_time_steps = np.arange(points_to_remove * step_interval, len(defect_counts_01) * step_interval, step_interval)\n",
    "filtered_time = filtered_time_steps * dt"
   ]
  },
  {
   "cell_type": "code",
   "execution_count": 15,
   "id": "ed5b6e04-8833-47eb-888b-d0b1cff1bf1f",
   "metadata": {},
   "outputs": [],
   "source": [
    "# Function to calculate R^2\n",
    "def R_squared(observed, predicted):\n",
    "    ss_res = np.sum((observed - predicted) ** 2)\n",
    "    ss_tot = np.sum((observed - np.mean(observed)) ** 2)\n",
    "    R_squared = 1 - (ss_res / ss_tot)\n",
    "    return R_squared"
   ]
  },
  {
   "cell_type": "code",
   "execution_count": 16,
   "id": "5826ed82-6e0d-4da9-8f64-1374fb53097c",
   "metadata": {},
   "outputs": [],
   "source": [
    "# Simpel model\n",
    "def simple_model(x, a):\n",
    "    return a/x"
   ]
  },
  {
   "cell_type": "code",
   "execution_count": 30,
   "id": "f3f93e68-ec1e-4b84-88fc-f438e9db1d30",
   "metadata": {},
   "outputs": [],
   "source": [
    "# log fit\n",
    "def log_model(x, a, b):\n",
    "    return a/x + np.log(x)"
   ]
  },
  {
   "cell_type": "code",
   "execution_count": 31,
   "id": "a05ba200-f071-447a-9550-8097794fac5c",
   "metadata": {},
   "outputs": [],
   "source": [
    "params_log_01, _ = curve_fit(log_model, filtered_time, filtered_defect_counts_01, p0=[1.0, 1.0], maxfev=2000)\n",
    "fit_log_01 = log_model(filtered_time, *params_log_01)\n",
    "R_squared_log_01 = R_squared(filtered_defect_counts_01, fit_log_01)\n",
    "\n",
    "params_log_03, _ = curve_fit(log_model, filtered_time, filtered_defect_counts_03, p0=[1.0, 1.0], maxfev=2000)\n",
    "fit_log_03 = log_model(filtered_time, *params_log_03)\n",
    "R_squared_log_03 = R_squared(filtered_defect_counts_03, fit_log_03)\n",
    "\n",
    "params_log_1, _ = curve_fit(log_model, filtered_time, filtered_defect_counts_1, p0=[1.0, 1.0], maxfev=2000)\n",
    "fit_log_1 = log_model(filtered_time, *params_log_1)\n",
    "R_squared_log_1 = R_squared(filtered_defect_counts_1, fit_log_1)"
   ]
  },
  {
   "cell_type": "code",
   "execution_count": 19,
   "id": "b8cad214-b35a-4cea-9de4-1eee8055f09d",
   "metadata": {},
   "outputs": [],
   "source": [
    "#print(params_log_1)"
   ]
  },
  {
   "cell_type": "code",
   "execution_count": 32,
   "id": "ad3c3f73-cb7a-47fd-b156-63c083184297",
   "metadata": {},
   "outputs": [
    {
     "data": {
      "image/png": "[encoded data removed]",
      "text/plain": [
       "<Figure size 1000x500 with 1 Axes>"
      ]
     },
     "metadata": {},
     "output_type": "display_data"
    }
   ],
   "source": [
    "# Plot the number of defects over time\n",
    "plt.figure(figsize=(10, 5))\n",
    "# plt.plot(filtered_time_steps, filtered_defect_counts, marker='o', label='Current simulation')\n",
    "plt.plot(filtered_time, filtered_defect_counts_01, color='blue', marker='o', label='V_0=0.1 data')\n",
    "plt.plot(filtered_time, filtered_defect_counts_03, color='orange', marker='o', label='V_0=1/3 data')\n",
    "plt.plot(filtered_time, filtered_defect_counts_1, color='green', marker='o', label='V_0=1 data')\n",
    "plt.plot(filtered_time, fit_log_01, color='cyan', label=fr'$a/x+log(x)$ fit for $V_0=0.1$ ($R^2$={R_squared_log_01:.3f})')\n",
    "plt.plot(filtered_time, fit_log_03, color='yellow', label=fr'$a/x+log(x)$ fit for $V_0=1/3$ ($R^2$={R_squared_log_03:.3f})')\n",
    "plt.plot(filtered_time, fit_log_1, color='teal', label=fr'$a/x+log(x)$ fit for $V_0=1$ ($R^2$={R_squared_log_1:.3f})')\n",
    "\n",
    "#plt.plot(filtered_time, filtered_defect_counts_3, marker='o', label='V_0=10/3')\n",
    "# plt.plot(filtered_time_steps, filtered_defect_counts_11, marker='o', label='V_0=1.1')\n",
    "plt.yscale('log')\n",
    "plt.xscale('log')\n",
    "plt.xlabel('Time')\n",
    "plt.ylabel('Number of defects')\n",
    "plt.title('Number of defects over time for different values of $V_0$ with logarithmic correction term fits')\n",
    "plt.grid(True)\n",
    "plt.legend()\n",
    "plt.show()"
   ]
  },
  {
   "cell_type": "code",
   "execution_count": 21,
   "id": "4b704371-6769-4ad4-a5c5-e585c6a7aa65",
   "metadata": {},
   "outputs": [],
   "source": [
    "# # Plot of peak detection coordinates on top of the actual peaks\n",
    "\n",
    "# fig, axs = plt.subplots(1, 2, figsize=(9, 4))\n",
    "\n",
    "# # Scalar field without coordinates\n",
    "# axs[0].imshow(scalar_field, cmap='inferno', interpolation='none', origin='lower', vmin=0, vmax=1)\n",
    "# axs[0].set_title(\"Scalar field\")\n",
    "\n",
    "# # Scalar field with coordinates\n",
    "# axs[1].imshow(scalar_field, cmap='inferno', interpolation='none', origin='lower', vmin=0, vmax=1)\n",
    "# axs[1].scatter(coordinates[:, 1], coordinates[:, 0], label='Peak detection')\n",
    "# axs[1].set_title(\"Scalar field with peak detection\")\n",
    "# axs[1].legend(loc='upper right')\n",
    "\n",
    "# plt.tight_layout()\n",
    "# plt.show()\n",
    "\n",
    "# print(defect_counts[-1])\n",
    "# print(coordinates.shape)"
   ]
  },
  {
   "cell_type": "code",
   "execution_count": 22,
   "id": "765cd5b9-edd4-4bba-a1fa-884fd19012ce",
   "metadata": {},
   "outputs": [],
   "source": [
    "# # Plots illustrations of topological defects\n",
    "\n",
    "# x, y = np.meshgrid(np.linspace(-256, 256, 20), np.linspace(-256, 256, 20))\n",
    "# u_vortex = -y\n",
    "# v_vortex = x\n",
    "\n",
    "# u_sink = x\n",
    "# v_sink = y\n",
    "\n",
    "# fig, axes = plt.subplots(1, 2, figsize=(12, 6))\n",
    "# fig.suptitle('Examples of topological defects: Vortex and source', fontsize=16)\n",
    "\n",
    "# # Plots the vortex field\n",
    "# axes[0].quiver(x, y, u_vortex, v_vortex, color='blue')\n",
    "# axes[0].set_title('Illustration of vector field with vortex in origin')\n",
    "# axes[0].grid(True)\n",
    "\n",
    "# # Plots the source field\n",
    "# axes[1].quiver(x, y, u_sink, v_sink, color='red')\n",
    "# axes[1].set_title('Illustration of vector field with source in origin')\n",
    "# axes[1].grid(True)\n",
    "\n",
    "# plt.tight_layout()\n",
    "# plt.show()"
   ]
  },
  {
   "cell_type": "markdown",
   "id": "211f037e-9721-4c3f-a7ea-e59ba570616c",
   "metadata": {},
   "source": [
    "### Runtime analysis"
   ]
  },
  {
   "cell_type": "code",
   "execution_count": 23,
   "id": "b27623dc-9ae3-4128-bc35-c63ae8803bae",
   "metadata": {},
   "outputs": [],
   "source": [
    "# # For dt=0.1, T=100, Gamma=0.5, V_0=1. 8 means 8 by 8.\n",
    "# system_sizes = np.load('system_sizes.npy')\n",
    "# runtime = np.load('computation_time.npy')\n",
    "# runtime_without_numba = np.load('computation_time_without_numba.npy')\n",
    "# runtime_without_parallelization = np.load('computation_time_without_parallelization.npy')\n",
    "\n",
    "# # For dt=0.1, T=100, Gamma=0.5, V_0=1. 8 means 8 by 8.\n",
    "# system_sizes_GPU = np.array([256, 512, 768, 1024, 1280, 1536, 1792, 2048])\n",
    "# runtimes_GPU = np.array([0.5790388584136963, 1.2543978691101074, 2.680281162261963, \n",
    "#             4.518123149871826, 6.812873125076294, 9.72492790222168, \n",
    "#             14.219187498092651, 24.33121347427368])"
   ]
  },
  {
   "cell_type": "code",
   "execution_count": 24,
   "id": "7ac51ed3-2c65-4268-a5c0-49173db0a559",
   "metadata": {},
   "outputs": [],
   "source": [
    "# # x squared polynomial to fit\n",
    "# def x_squared_model(x, a, b):\n",
    "#     return a * x**2 + b"
   ]
  },
  {
   "cell_type": "code",
   "execution_count": 25,
   "id": "704d854e-91bd-4946-8720-b71159c8f98f",
   "metadata": {},
   "outputs": [],
   "source": [
    "# # R squared to data without numba fit\n",
    "# params_without_numba, _ = curve_fit(x_squared_model, system_sizes, runtime_without_numba)\n",
    "# fit_without_numba = x_squared_model(system_sizes, *params_without_numba)\n",
    "# R_squared_without_numba = R_squared(runtime_without_numba, fit_without_numba)\n",
    "\n",
    "# # R squared to data with numba without parallelization fit\n",
    "# params_without_parallelization, _ = curve_fit(x_squared_model, system_sizes, runtime_without_parallelization)\n",
    "# fit_without_parallelization = x_squared_model(system_sizes, *params_without_parallelization)\n",
    "# R_squared_without_parallelization = R_squared(runtime_without_parallelization, fit_without_parallelization)\n",
    "\n",
    "# # R squared to data with numba with parallelization fit\n",
    "# params_with_numba, _ = curve_fit(x_squared_model, system_sizes, runtime)\n",
    "# fit_with_numba = x_squared_model(system_sizes, *params_with_numba)\n",
    "# R_squared_with_numba = R_squared(runtime, fit_with_numba)\n",
    "\n",
    "# # R squared to data with GPU fit\n",
    "# params_GPU, _ = curve_fit(x_squared_model, system_sizes_GPU, runtimes_GPU)\n",
    "# fit_with_GPU = x_squared_model(system_sizes_GPU, *params_GPU)\n",
    "# R_squared_GPU = R_squared(runtimes_GPU, fit_with_GPU)\n",
    "\n",
    "# # Create a 2x2 subplot grid\n",
    "# fig, axs = plt.subplots(2, 2, figsize=(12, 10))\n",
    "\n",
    "# # Plot classic Python without optimization\n",
    "# axs[0, 0].plot(system_sizes, runtime_without_numba, marker='o', label='Data')\n",
    "# axs[0, 0].plot(system_sizes, fit_without_numba, color='red', label=r'Fit: $ax^2+b$')\n",
    "# axs[0, 0].set_title(\"Classic Python without optimization\", fontsize='12')\n",
    "# axs[0, 0].set_xlabel(\"System size $[N]$\")\n",
    "# axs[0, 0].set_ylabel(\"Runtime [s]\")\n",
    "# axs[0, 0].text(0.5, 0.95, f'$R^2 = {R_squared_without_numba:.4f}$', transform=axs[0, 0].transAxes, fontsize=12, verticalalignment='top')\n",
    "# axs[0, 0].grid(True)\n",
    "# axs[0, 0].legend()\n",
    "\n",
    "# # Plot Python with Numba without parallelization\n",
    "# axs[0, 1].plot(system_sizes, runtime_without_parallelization, marker='o', color='orange', label='Data')\n",
    "# axs[0, 1].plot(system_sizes, fit_without_parallelization, color='red', label=r'Fit: $ax^2+b$')\n",
    "# axs[0, 1].set_title(\"Numba without parallelization\", fontsize='12')\n",
    "# axs[0, 1].set_xlabel(\"System size $[N]$\")\n",
    "# axs[0, 1].set_ylabel(\"Runtime [s]\")\n",
    "# axs[0, 1].text(0.5, 0.95, f'$R^2 = {R_squared_without_parallelization:.4f}$', transform=axs[0, 1].transAxes, fontsize=12, verticalalignment='top')\n",
    "# axs[0, 1].grid(True)\n",
    "# axs[0, 1].legend()\n",
    "\n",
    "# # Plot Python with Numba with parallelization\n",
    "# axs[1, 0].plot(system_sizes, runtime, marker='o', color='green', label='Data')\n",
    "# axs[1, 0].plot(system_sizes, fit_with_numba, color='red', label=r'Fit: $ax^2+b$')\n",
    "# axs[1, 0].set_title(\"Numba with parallelization\", fontsize='12')\n",
    "# axs[1, 0].set_xlabel(\"System size $[N]$\")\n",
    "# axs[1, 0].set_ylabel(\"Runtime [s]\")\n",
    "# axs[1, 0].text(0.5, 0.95, f'$R^2 = {R_squared_with_numba:.4f}$', transform=axs[1, 0].transAxes, fontsize=12, verticalalignment='top')\n",
    "# axs[1, 0].grid(True)\n",
    "# axs[1, 0].legend()\n",
    "\n",
    "# # Plot original data with quadratic fit (your new plot)\n",
    "# axs[1, 1].plot(system_sizes_GPU, runtimes_GPU, marker='o', color='grey', label='Data')\n",
    "# axs[1, 1].plot(system_sizes_GPU, fit_with_GPU, color='red', label=r'Fit: $ax^2+b$')\n",
    "# axs[1, 1].set_title(\"PyTorch implementation utiziling parallelization on GPU\", fontsize='12')\n",
    "# axs[1, 1].set_xlabel(\"System size $[N]$\")\n",
    "# axs[1, 1].set_ylabel(\"Runtime [s]\")\n",
    "# axs[1, 1].text(0.5, 0.95, f'$R^2 = {R_squared_GPU:.4f}$', transform=axs[1, 1].transAxes, fontsize=12, verticalalignment='top')\n",
    "# axs[1, 1].grid(True)\n",
    "# axs[1, 1].legend()\n",
    "\n",
    "# # Set the overall title for the figure\n",
    "# fig.suptitle(\"Comparison of runtime over system size across different implementations\", fontsize=16)\n",
    "# plt.tight_layout(rect=[0, 0, 1, 0.95])\n",
    "# plt.show()"
   ]
  }
 ],
 "metadata": {
  "kernelspec": {
   "display_name": "Python 3 (ipykernel)",
   "language": "python",
   "name": "python3"
  },
  "language_info": {
   "codemirror_mode": {
    "name": "ipython",
    "version": 3
   },
   "file_extension": ".py",
   "mimetype": "text/x-python",
   "name": "python",
   "nbconvert_exporter": "python",
   "pygments_lexer": "ipython3",
   "version": "3.12.3"
  }
 },
 "nbformat": 4,
 "nbformat_minor": 5
}
