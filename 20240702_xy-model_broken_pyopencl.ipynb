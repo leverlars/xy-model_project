{
 "cells": [
  {
   "cell_type": "markdown",
   "id": "194cae49-f659-4dfa-9212-77f0a175f478",
   "metadata": {},
   "source": [
    "### pyopencl Python Classical XY-Model"
   ]
  },
  {
   "cell_type": "markdown",
   "id": "3bacf1c1-339b-497e-9adb-95cba7fc5896",
   "metadata": {},
   "source": [
    "The equations:\n",
    "\n",
    "\n",
    "$F[\\vec \\phi]=\\int d^2x[(\\nabla \\vec \\phi)^2+V_0(\\vec \\phi ^2 - 1)^2]$\n",
    "\n",
    "$\\partial _ t \\vec \\phi = -\\Gamma \\delta F / \\delta \\vec \\phi$\n",
    "\n",
    "$ \\langle \\vec \\phi (x,0)\\cdot \\vec \\phi (x',0) \\rangle = \\Delta \\delta (x-x')$\n",
    "\n",
    "\n",
    "The actual equation that I end up solving:\n",
    "\n",
    "$\\frac {d \\vec \\phi}{dt} = - \\Gamma ( V_0 2 \\vec \\phi (\\vec \\phi ^2 - 1) - 2 \\nabla ^2 \\vec \\phi)$\n",
    "\n",
    "I do this for x and y (two seperate equations) with backwards euler 5-point gradiant stencil as numerical scheme."
   ]
  },
  {
   "cell_type": "code",
   "execution_count": 2,
   "id": "c7412bea-8d66-4467-a0f7-4f5e16c9b37c",
   "metadata": {},
   "outputs": [],
   "source": [
    "import numpy as np\n",
    "import matplotlib.pyplot as plt\n",
    "from mpl_toolkits.axes_grid1 import make_axes_locatable\n",
    "from numba import njit, prange\n",
    "import os\n",
    "import imageio.v2 as imageio\n",
    "from IPython.display import Image, display, HTML"
   ]
  },
  {
   "cell_type": "code",
   "execution_count": 3,
   "id": "a4ee5066-f8b4-4df7-9332-fc0c571c9b2b",
   "metadata": {},
   "outputs": [
    {
     "name": "stdout",
     "output_type": "stream",
     "text": [
      "Platform: Portable Computing Language (The pocl project)\n",
      "  Device: cpu-haswell-Intel(R) Core(TM) i5-7400 CPU @ 3.00GHz\n",
      "    Type: ALL | CPU\n",
      "    Max Compute Units: 4\n",
      "    Max Work Group Size: 4096\n",
      "    Global Memory Size: 5857.82421875 MB\n",
      "    Local Memory Size: 256.0 KB\n",
      "    OpenCL Version: OpenCL C 1.2 PoCL\n",
      "  Device: NVIDIA GeForce GTX 1060 3GB\n",
      "    Type: ALL | GPU\n",
      "    Max Compute Units: 9\n",
      "    Max Work Group Size: 1024\n",
      "    Global Memory Size: 2998.875 MB\n",
      "    Local Memory Size: 48.0 KB\n",
      "    OpenCL Version: OpenCL C 1.2 PoCL\n"
     ]
    }
   ],
   "source": [
    "import pyopencl as cl\n",
    "\n",
    "def list_opencl_devices():\n",
    "    platforms = cl.get_platforms()\n",
    "    if not platforms:\n",
    "        print(\"No OpenCL platforms found.\")\n",
    "        return\n",
    "\n",
    "    for platform in platforms:\n",
    "        print(f\"Platform: {platform.name} ({platform.vendor})\")\n",
    "        devices = platform.get_devices()\n",
    "        for device in devices:\n",
    "            print(f\"  Device: {device.name}\")\n",
    "            print(f\"    Type: {cl.device_type.to_string(device.type)}\")\n",
    "            print(f\"    Max Compute Units: {device.max_compute_units}\")\n",
    "            print(f\"    Max Work Group Size: {device.max_work_group_size}\")\n",
    "            print(f\"    Global Memory Size: {device.global_mem_size / 1024 / 1024} MB\")\n",
    "            print(f\"    Local Memory Size: {device.local_mem_size / 1024} KB\")\n",
    "            print(f\"    OpenCL Version: {device.opencl_c_version}\")\n",
    "\n",
    "list_opencl_devices()"
   ]
  },
  {
   "cell_type": "code",
   "execution_count": 4,
   "id": "e4a9c087-41bc-4540-92e6-3bfc5d1a5baf",
   "metadata": {},
   "outputs": [
    {
     "name": "stdout",
     "output_type": "stream",
     "text": [
      "Platform: Portable Computing Language\n",
      "Device: cpu-haswell-Intel(R) Core(TM) i5-7400 CPU @ 3.00GHz\n",
      "Device: NVIDIA GeForce GTX 1060 3GB\n"
     ]
    }
   ],
   "source": [
    "import pyopencl as cl\n",
    "\n",
    "platforms = cl.get_platforms()\n",
    "for platform in platforms:\n",
    "    print(\"Platform:\", platform.name)\n",
    "    devices = platform.get_devices()\n",
    "    for device in devices:\n",
    "        print(\"Device:\", device.name)"
   ]
  },
  {
   "cell_type": "code",
   "execution_count": 5,
   "id": "fb401366-8bb3-45e0-b9d4-647636cc0670",
   "metadata": {},
   "outputs": [],
   "source": [
    "# Constants\n",
    "\n",
    "V_0 = 1\n",
    "# Kinetic coefficient (timescale)\n",
    "Gamma = 0.5\n",
    "# Determines the order of the initial state\n",
    "Delta = 1\n",
    "# Scalar\n",
    "s = 1\n",
    "# Size of lattice\n",
    "N = 20\n",
    "M = 20\n",
    "# Timestep\n",
    "dt = 0.1\n",
    "# Amount of timesteps I want the simulation to run in units: number divided by size of dt\n",
    "T = 10"
   ]
  },
  {
   "cell_type": "code",
   "execution_count": 6,
   "id": "05293cd4-8a52-4c62-85e5-16ae79fbbe67",
   "metadata": {},
   "outputs": [],
   "source": [
    "current_dir = os.getcwd()\n",
    "output_dirs = ['vector_field_images', 'angle_field_images', 'scalar_field_images']\n",
    "for dir in output_dirs:\n",
    "    os.makedirs(os.path.join(current_dir, dir), exist_ok=True)"
   ]
  },
  {
   "cell_type": "code",
   "execution_count": 7,
   "id": "64c75cbd-3ea1-4a5b-a102-0988a95a320c",
   "metadata": {},
   "outputs": [],
   "source": [
    "# OpenCL setup\n",
    "platform = cl.get_platforms()[0]\n",
    "device = platform.get_devices()[1]\n",
    "context = cl.Context([device])\n",
    "queue = cl.CommandQueue(context)"
   ]
  },
  {
   "cell_type": "code",
   "execution_count": 8,
   "id": "ea987a46-6905-469f-b0e8-93490f1997e8",
   "metadata": {},
   "outputs": [
    {
     "ename": "RuntimeError",
     "evalue": "clBuildProgram failed: BUILD_PROGRAM_FAILURE - clBuildProgram failed: BUILD_PROGRAM_FAILURE - clBuildProgram failed: BUILD_PROGRAM_FAILURE\n\nBuild on <pyopencl.Device 'NVIDIA GeForce GTX 1060 3GB' on 'Portable Computing Language' at 0x5d4429f49320>:\n\n\n(options: -I /home/leverlars/miniforge3/envs/pyopencl_env/lib/python3.12/site-packages/pyopencl/cl)",
     "output_type": "error",
     "traceback": [
      "\u001b[0;31m---------------------------------------------------------------------------\u001b[0m",
      "\u001b[0;31mRuntimeError\u001b[0m                              Traceback (most recent call last)",
      "Cell \u001b[0;32mIn[8], line 59\u001b[0m\n\u001b[1;32m      1\u001b[0m \u001b[38;5;66;03m# Kernels\u001b[39;00m\n\u001b[1;32m      2\u001b[0m program \u001b[38;5;241m=\u001b[39m cl\u001b[38;5;241m.\u001b[39mProgram(context, \u001b[38;5;124m\"\"\"\u001b[39m\n\u001b[1;32m      3\u001b[0m \u001b[38;5;124m__kernel void create_vector_field(__global float2 *vector_field, int N, int M, float s, int seed) \u001b[39m\u001b[38;5;124m{\u001b[39m\n\u001b[1;32m      4\u001b[0m \u001b[38;5;124m    int i = get_global_id(0);\u001b[39m\n\u001b[1;32m      5\u001b[0m \u001b[38;5;124m    int j = get_global_id(1);\u001b[39m\n\u001b[1;32m      6\u001b[0m \u001b[38;5;124m    int index = i * M + j;\u001b[39m\n\u001b[1;32m      7\u001b[0m \n\u001b[1;32m      8\u001b[0m \u001b[38;5;124m    // Simple LCG for random numbers\u001b[39m\n\u001b[1;32m      9\u001b[0m \u001b[38;5;124m    int lcg_a = 1664525;\u001b[39m\n\u001b[1;32m     10\u001b[0m \u001b[38;5;124m    int lcg_c = 1013904223;\u001b[39m\n\u001b[1;32m     11\u001b[0m \u001b[38;5;124m    seed = seed * (index + 1);\u001b[39m\n\u001b[1;32m     12\u001b[0m \u001b[38;5;124m    seed = (lcg_a * seed + lcg_c) \u001b[39m\u001b[38;5;132;01m% 0x\u001b[39;00m\u001b[38;5;124m10000;\u001b[39m\n\u001b[1;32m     13\u001b[0m \u001b[38;5;124m    float rand_val = (float)seed / 0x10000;\u001b[39m\n\u001b[1;32m     14\u001b[0m \n\u001b[1;32m     15\u001b[0m \u001b[38;5;124m    float angle = rand_val * 2.0f * M_PI;\u001b[39m\n\u001b[1;32m     16\u001b[0m \u001b[38;5;124m    vector_field[index].x = s * cos(angle);\u001b[39m\n\u001b[1;32m     17\u001b[0m \u001b[38;5;124m    vector_field[index].y = s * sin(angle);\u001b[39m\n\u001b[1;32m     18\u001b[0m \u001b[38;5;124m}\u001b[39m\n\u001b[1;32m     19\u001b[0m \n\u001b[1;32m     20\u001b[0m \u001b[38;5;124m__kernel void angle_from_field(__global float2 *vector_field, __global float *angle_field, int N, int M, float s) \u001b[39m\u001b[38;5;124m{\u001b[39m\n\u001b[1;32m     21\u001b[0m \u001b[38;5;124m    int i = get_global_id(0);\u001b[39m\n\u001b[1;32m     22\u001b[0m \u001b[38;5;124m    int j = get_global_id(1);\u001b[39m\n\u001b[1;32m     23\u001b[0m \u001b[38;5;124m    int index = i * M + j;\u001b[39m\n\u001b[1;32m     24\u001b[0m \n\u001b[1;32m     25\u001b[0m \u001b[38;5;124m    angle_field[index] = atan2(vector_field[index].y / s, vector_field[index].x / s);\u001b[39m\n\u001b[1;32m     26\u001b[0m \u001b[38;5;124m}\u001b[39m\n\u001b[1;32m     27\u001b[0m \n\u001b[1;32m     28\u001b[0m \u001b[38;5;124m__kernel void scalar_from_field(__global float2 *vector_field, __global float *scalar_field, int N, int M) \u001b[39m\u001b[38;5;124m{\u001b[39m\n\u001b[1;32m     29\u001b[0m \u001b[38;5;124m    int i = get_global_id(0);\u001b[39m\n\u001b[1;32m     30\u001b[0m \u001b[38;5;124m    int j = get_global_id(1);\u001b[39m\n\u001b[1;32m     31\u001b[0m \u001b[38;5;124m    int index = i * M + j;\u001b[39m\n\u001b[1;32m     32\u001b[0m \n\u001b[1;32m     33\u001b[0m \u001b[38;5;124m    scalar_field[index] = sqrt(vector_field[index].x * vector_field[index].x + vector_field[index].y * vector_field[index].y);\u001b[39m\n\u001b[1;32m     34\u001b[0m \u001b[38;5;124m}\u001b[39m\n\u001b[1;32m     35\u001b[0m \n\u001b[1;32m     36\u001b[0m \u001b[38;5;124m__kernel void vector_field_derivative(__global float2 *vector_field, __global float2 *vector_field_derived, int N, int M, float V_0, float Gamma) \u001b[39m\u001b[38;5;124m{\u001b[39m\n\u001b[1;32m     37\u001b[0m \u001b[38;5;124m    int i = get_global_id(0);\u001b[39m\n\u001b[1;32m     38\u001b[0m \u001b[38;5;124m    int j = get_global_id(1);\u001b[39m\n\u001b[1;32m     39\u001b[0m \u001b[38;5;124m    int index = i * M + j;\u001b[39m\n\u001b[1;32m     40\u001b[0m \n\u001b[1;32m     41\u001b[0m \u001b[38;5;124m    int up = (i - 1 + N) \u001b[39m\u001b[38;5;124m%\u001b[39m\u001b[38;5;124m N;\u001b[39m\n\u001b[1;32m     42\u001b[0m \u001b[38;5;124m    int down = (i + 1) \u001b[39m\u001b[38;5;124m%\u001b[39m\u001b[38;5;124m N;\u001b[39m\n\u001b[1;32m     43\u001b[0m \u001b[38;5;124m    int left = (j - 1 + M) \u001b[39m\u001b[38;5;124m%\u001b[39m\u001b[38;5;124m M;\u001b[39m\n\u001b[1;32m     44\u001b[0m \u001b[38;5;124m    int right = (j + 1) \u001b[39m\u001b[38;5;124m%\u001b[39m\u001b[38;5;124m M;\u001b[39m\n\u001b[1;32m     45\u001b[0m \n\u001b[1;32m     46\u001b[0m \u001b[38;5;124m    float2 non_linear_term = V_0 * 2.0f * vector_field[index] * (vector_field[index].x * vector_field[index].x + vector_field[index].y * vector_field[index].y - 1.0f);\u001b[39m\n\u001b[1;32m     47\u001b[0m \u001b[38;5;124m    float2 laplacian_term = (vector_field[up * M + j] + vector_field[down * M + j] + vector_field[i * M + left] + vector_field[i * M + right] - 4.0f * vector_field[index]);\u001b[39m\n\u001b[1;32m     48\u001b[0m \n\u001b[1;32m     49\u001b[0m \u001b[38;5;124m    vector_field_derived[index] = -Gamma * (non_linear_term - 2.0f * laplacian_term);\u001b[39m\n\u001b[1;32m     50\u001b[0m \u001b[38;5;124m}\u001b[39m\n\u001b[1;32m     51\u001b[0m \n\u001b[1;32m     52\u001b[0m \u001b[38;5;124m__kernel void update_vector_field(__global float2 *vector_field, __global float2 *vector_field_derived, float dt, int N, int M) \u001b[39m\u001b[38;5;124m{\u001b[39m\n\u001b[1;32m     53\u001b[0m \u001b[38;5;124m    int i = get_global_id(0);\u001b[39m\n\u001b[1;32m     54\u001b[0m \u001b[38;5;124m    int j = get_global_id(1);\u001b[39m\n\u001b[1;32m     55\u001b[0m \u001b[38;5;124m    int index = i * M + j;\u001b[39m\n\u001b[1;32m     56\u001b[0m \n\u001b[1;32m     57\u001b[0m \u001b[38;5;124m    vector_field[index] += dt * vector_field_derived[index];\u001b[39m\n\u001b[1;32m     58\u001b[0m \u001b[38;5;124m}\u001b[39m\n\u001b[0;32m---> 59\u001b[0m \u001b[38;5;124m\"\"\"\u001b[39m)\u001b[38;5;241m.\u001b[39mbuild()\n",
      "File \u001b[0;32m~/miniforge3/envs/pyopencl_env/lib/python3.12/site-packages/pyopencl/__init__.py:518\u001b[0m, in \u001b[0;36mProgram.build\u001b[0;34m(self, options, devices, cache_dir)\u001b[0m\n\u001b[1;32m    515\u001b[0m     \u001b[38;5;28;01mif\u001b[39;00m build_descr \u001b[38;5;129;01mis\u001b[39;00m \u001b[38;5;28;01mNone\u001b[39;00m:\n\u001b[1;32m    516\u001b[0m         build_descr \u001b[38;5;241m=\u001b[39m \u001b[38;5;124m\"\u001b[39m\u001b[38;5;124muncached source build\u001b[39m\u001b[38;5;124m\"\u001b[39m\n\u001b[0;32m--> 518\u001b[0m     \u001b[38;5;28mself\u001b[39m\u001b[38;5;241m.\u001b[39m_build_and_catch_errors(\n\u001b[1;32m    519\u001b[0m             \u001b[38;5;28;01mlambda\u001b[39;00m: \u001b[38;5;28mself\u001b[39m\u001b[38;5;241m.\u001b[39m_prg\u001b[38;5;241m.\u001b[39mbuild(options_bytes, devices),\n\u001b[1;32m    520\u001b[0m             options_bytes\u001b[38;5;241m=\u001b[39moptions_bytes)\n\u001b[1;32m    522\u001b[0m \u001b[38;5;28;01melse\u001b[39;00m:\n\u001b[1;32m    523\u001b[0m     \u001b[38;5;66;03m# cached\u001b[39;00m\n\u001b[1;32m    525\u001b[0m     \u001b[38;5;28;01mfrom\u001b[39;00m \u001b[38;5;21;01mpyopencl\u001b[39;00m\u001b[38;5;21;01m.\u001b[39;00m\u001b[38;5;21;01mcache\u001b[39;00m \u001b[38;5;28;01mimport\u001b[39;00m create_built_program_from_source_cached\n",
      "File \u001b[0;32m~/miniforge3/envs/pyopencl_env/lib/python3.12/site-packages/pyopencl/__init__.py:574\u001b[0m, in \u001b[0;36mProgram._build_and_catch_errors\u001b[0;34m(self, build_func, options_bytes, source)\u001b[0m\n\u001b[1;32m    566\u001b[0m     err \u001b[38;5;241m=\u001b[39m \u001b[38;5;167;01mRuntimeError\u001b[39;00m(\n\u001b[1;32m    567\u001b[0m             _cl\u001b[38;5;241m.\u001b[39m_ErrorRecord(\n\u001b[1;32m    568\u001b[0m                 msg\u001b[38;5;241m=\u001b[39mmsg,\n\u001b[1;32m    569\u001b[0m                 code\u001b[38;5;241m=\u001b[39mcode,\n\u001b[1;32m    570\u001b[0m                 routine\u001b[38;5;241m=\u001b[39mroutine))\n\u001b[1;32m    572\u001b[0m \u001b[38;5;66;03m# Python 3.2 outputs the whole list of currently active exceptions\u001b[39;00m\n\u001b[1;32m    573\u001b[0m \u001b[38;5;66;03m# This serves to remove one (redundant) level from that nesting.\u001b[39;00m\n\u001b[0;32m--> 574\u001b[0m \u001b[38;5;28;01mraise\u001b[39;00m err\n",
      "\u001b[0;31mRuntimeError\u001b[0m: clBuildProgram failed: BUILD_PROGRAM_FAILURE - clBuildProgram failed: BUILD_PROGRAM_FAILURE - clBuildProgram failed: BUILD_PROGRAM_FAILURE\n\nBuild on <pyopencl.Device 'NVIDIA GeForce GTX 1060 3GB' on 'Portable Computing Language' at 0x5d4429f49320>:\n\n\n(options: -I /home/leverlars/miniforge3/envs/pyopencl_env/lib/python3.12/site-packages/pyopencl/cl)"
     ]
    }
   ],
   "source": [
    "# Kernels\n",
    "program = cl.Program(context, \"\"\"\n",
    "__kernel void create_vector_field(__global float2 *vector_field, int N, int M, float s, int seed) {\n",
    "    int i = get_global_id(0);\n",
    "    int j = get_global_id(1);\n",
    "    int index = i * M + j;\n",
    "\n",
    "    // Simple LCG for random numbers\n",
    "    int lcg_a = 1664525;\n",
    "    int lcg_c = 1013904223;\n",
    "    seed = seed * (index + 1);\n",
    "    seed = (lcg_a * seed + lcg_c) % 0x10000;\n",
    "    float rand_val = (float)seed / 0x10000;\n",
    "\n",
    "    float angle = rand_val * 2.0f * M_PI;\n",
    "    vector_field[index].x = s * cos(angle);\n",
    "    vector_field[index].y = s * sin(angle);\n",
    "}\n",
    "\n",
    "__kernel void angle_from_field(__global float2 *vector_field, __global float *angle_field, int N, int M, float s) {\n",
    "    int i = get_global_id(0);\n",
    "    int j = get_global_id(1);\n",
    "    int index = i * M + j;\n",
    "\n",
    "    angle_field[index] = atan2(vector_field[index].y / s, vector_field[index].x / s);\n",
    "}\n",
    "\n",
    "__kernel void scalar_from_field(__global float2 *vector_field, __global float *scalar_field, int N, int M) {\n",
    "    int i = get_global_id(0);\n",
    "    int j = get_global_id(1);\n",
    "    int index = i * M + j;\n",
    "\n",
    "    scalar_field[index] = sqrt(vector_field[index].x * vector_field[index].x + vector_field[index].y * vector_field[index].y);\n",
    "}\n",
    "\n",
    "__kernel void vector_field_derivative(__global float2 *vector_field, __global float2 *vector_field_derived, int N, int M, float V_0, float Gamma) {\n",
    "    int i = get_global_id(0);\n",
    "    int j = get_global_id(1);\n",
    "    int index = i * M + j;\n",
    "\n",
    "    int up = (i - 1 + N) % N;\n",
    "    int down = (i + 1) % N;\n",
    "    int left = (j - 1 + M) % M;\n",
    "    int right = (j + 1) % M;\n",
    "\n",
    "    float2 non_linear_term = V_0 * 2.0f * vector_field[index] * (vector_field[index].x * vector_field[index].x + vector_field[index].y * vector_field[index].y - 1.0f);\n",
    "    float2 laplacian_term = (vector_field[up * M + j] + vector_field[down * M + j] + vector_field[i * M + left] + vector_field[i * M + right] - 4.0f * vector_field[index]);\n",
    "\n",
    "    vector_field_derived[index] = -Gamma * (non_linear_term - 2.0f * laplacian_term);\n",
    "}\n",
    "\n",
    "__kernel void update_vector_field(__global float2 *vector_field, __global float2 *vector_field_derived, float dt, int N, int M) {\n",
    "    int i = get_global_id(0);\n",
    "    int j = get_global_id(1);\n",
    "    int index = i * M + j;\n",
    "\n",
    "    vector_field[index] += dt * vector_field_derived[index];\n",
    "}\n",
    "\"\"\").build()"
   ]
  },
  {
   "cell_type": "code",
   "execution_count": null,
   "id": "61e28b68-23c0-497c-ba58-817b7b3b6828",
   "metadata": {},
   "outputs": [],
   "source": [
    "mf = cl.mem_flags\n",
    "vector_field = np.empty((N, M, 2), dtype=np.float32)\n",
    "vector_field_buf = cl.Buffer(context, mf.READ_WRITE | mf.COPY_HOST_PTR, hostbuf=vector_field)\n",
    "vector_field_derived_buf = cl.Buffer(context, mf.READ_WRITE, vector_field.nbytes)\n",
    "angle_field = np.empty((N, M), dtype=np.float32)\n",
    "angle_field_buf = cl.Buffer(context, mf.READ_WRITE, angle_field.nbytes)\n",
    "scalar_field = np.empty((N, M), dtype=np.float32)\n",
    "scalar_field_buf = cl.Buffer(context, mf.READ_WRITE, scalar_field.nbytes)"
   ]
  },
  {
   "cell_type": "code",
   "execution_count": null,
   "id": "1624e891-9a37-4142-abf1-d24e56439d76",
   "metadata": {},
   "outputs": [],
   "source": [
    "seed = np.int32(69420)\n",
    "create_vector_field_kernel = program.create_vector_field\n",
    "create_vector_field_kernel.set_args(vector_field_buf, np.int32(N), np.int32(M), np.float32(s), seed)\n",
    "cl.enqueue_nd_range_kernel(queue, create_vector_field_kernel, (N, M), None)"
   ]
  },
  {
   "cell_type": "code",
   "execution_count": null,
   "id": "e821a744-ea12-4140-b9ea-8cccda607e94",
   "metadata": {},
   "outputs": [],
   "source": [
    "# Simulation\n",
    "num_steps = int(T / dt)\n",
    "for step in range(num_steps):\n",
    "    vector_field_derivative_kernel = program.vector_field_derivative\n",
    "    vector_field_derivative_kernel.set_args(vector_field_buf, vector_field_derived_buf, np.int32(N), np.int32(M), np.float32(V_0), np.float32(Gamma))\n",
    "    cl.enqueue_nd_range_kernel(queue, vector_field_derivative_kernel, (N, M), None)\n",
    "\n",
    "    update_vector_field_kernel = program.update_vector_field\n",
    "    update_vector_field_kernel.set_args(vector_field_buf, vector_field_derived_buf, np.float32(dt), np.int32(N), np.int32(M))\n",
    "    cl.enqueue_nd_range_kernel(queue, update_vector_field_kernel, (N, M), None)\n",
    "\n",
    "    cl.enqueue_copy(queue, vector_field, vector_field_buf)\n",
    "    angle_from_field_kernel = program.angle_from_field\n",
    "    angle_from_field_kernel.set_args(vector_field_buf, angle_field_buf, np.int32(N), np.int32(M), np.float32(s))\n",
    "    cl.enqueue_nd_range_kernel(queue, angle_from_field_kernel, (N, M), None)\n",
    "    scalar_from_field_kernel = program.scalar_from_field\n",
    "    scalar_from_field_kernel.set_args(vector_field_buf, scalar_field_buf, np.int32(N), np.int32(M))\n",
    "    cl.enqueue_nd_range_kernel(queue, scalar_from_field_kernel, (N, M), None)\n",
    "    cl.enqueue_copy(queue, angle_field, angle_field_buf)\n",
    "    cl.enqueue_copy(queue, scalar_field, scalar_field_buf)\n",
    "\n",
    "    plt.figure(figsize=(5, 5))\n",
    "    plt.imshow(np.linalg.norm(vector_field, axis=2), cmap='viridis')\n",
    "    plt.colorbar()\n",
    "    plt.title(f'Time Step {step}')\n",
    "    plt.savefig(f'vector_field_images/vector_field_{step:03d}.png')\n",
    "    plt.close()\n",
    "\n",
    "    plt.figure(figsize=(5, 5))\n",
    "    plt.imshow(angle_field, cmap='hsv')\n",
    "    plt.colorbar()\n",
    "    plt.title(f'Angle Field Time Step {step}')\n",
    "    plt.savefig(f'angle_field_images/angle_field_{step:03d}.png')\n",
    "    plt.close()\n",
    "\n",
    "    plt.figure(figsize=(5, 5))\n",
    "    plt.imshow(scalar_field, cmap='inferno')\n",
    "    plt.colorbar()\n",
    "    plt.title(f'Scalar Field Time Step {step}')\n",
    "    plt.savefig(f'scalar_field_images/scalar_field_{step:03d}.png')\n",
    "    plt.close()"
   ]
  },
  {
   "cell_type": "code",
   "execution_count": null,
   "id": "21b947ce-b207-4558-b463-577f910a4559",
   "metadata": {},
   "outputs": [],
   "source": [
    "def create_gif(image_folder, gif_filename, duration=0.1):\n",
    "    images = []\n",
    "    for i in range(num_steps):\n",
    "        filename = f'{image_folder}/{image_folder[:-7]}_{i:03d}.png'\n",
    "        images.append(imageio.imread(filename))\n",
    "    imageio.mimsave(gif_filename, images, duration=duration)"
   ]
  },
  {
   "cell_type": "code",
   "execution_count": null,
   "id": "2a01ca2c-b59e-47fa-99b0-4762a4a8bbbd",
   "metadata": {},
   "outputs": [],
   "source": [
    "create_gif('vector_field_images', 'vector_field_animation.gif')\n",
    "create_gif('angle_field_images', 'angle_field_animation.gif')\n",
    "create_gif('scalar_field_images', 'scalar_field_animation.gif')"
   ]
  },
  {
   "cell_type": "code",
   "execution_count": null,
   "id": "c8ebe0df-1b63-48bf-a8af-f807f57d1845",
   "metadata": {},
   "outputs": [],
   "source": [
    "display(HTML(\"\"\"\n",
    "<div style=\"display: flex; justify-content: space-around;\">\n",
    "    <img src=\"vector_field_animation.gif\" alt=\"Vector Field Animation\">\n",
    "    <img src=\"angle_field_animation.gif\" alt=\"Angle Field Animation\">\n",
    "    <img src=\"scalar_field_animation.gif\" alt=\"Scalar Field Animation\">\n",
    "</div>\n",
    "\"\"\"))"
   ]
  }
 ],
 "metadata": {
  "kernelspec": {
   "display_name": "Python 3 (ipykernel)",
   "language": "python",
   "name": "python3"
  },
  "language_info": {
   "codemirror_mode": {
    "name": "ipython",
    "version": 3
   },
   "file_extension": ".py",
   "mimetype": "text/x-python",
   "name": "python",
   "nbconvert_exporter": "python",
   "pygments_lexer": "ipython3",
   "version": "3.12.3"
  }
 },
 "nbformat": 4,
 "nbformat_minor": 5
}
