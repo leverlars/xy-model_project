{
 "cells": [
  {
   "cell_type": "markdown",
   "id": "2bf8c8f0-3c50-4268-b764-00b33a7f3418",
   "metadata": {},
   "source": [
    "### PyTorch Classical XY-Model"
   ]
  },
  {
   "cell_type": "markdown",
   "id": "14ef317b-08c3-449a-b773-531cc8d679bd",
   "metadata": {},
   "source": [
    "The equations:\n",
    "\n",
    "\n",
    "$F[\\vec \\phi]=\\int d^2x[(\\nabla \\vec \\phi)^2+V_0(\\vec \\phi ^2 - 1)^2]$\n",
    "\n",
    "$\\partial _ t \\vec \\phi = -\\Gamma \\delta F / \\delta \\vec \\phi$\n",
    "\n",
    "$ \\langle \\vec \\phi (x,0)\\cdot \\vec \\phi (x',0) \\rangle = \\Delta \\delta (x-x')$\n",
    "\n",
    "\n",
    "The actual equation that I end up solving:\n",
    "\n",
    "$\\frac {d \\vec \\phi}{dt} = - \\Gamma ( V_0 2 \\vec \\phi (\\vec \\phi ^2 - 1) - 2 \\nabla ^2 \\vec \\phi)$\n",
    "\n",
    "I do this for x and y (two seperate equations) with backwards euler 5-point gradiant stencil as numerical scheme."
   ]
  },
  {
   "cell_type": "code",
   "execution_count": 1,
   "id": "957a2d91-eb80-4a82-bb42-da21cd7142d6",
   "metadata": {},
   "outputs": [],
   "source": [
    "import numpy as np\n",
    "import matplotlib.pyplot as plt\n",
    "from mpl_toolkits.axes_grid1 import make_axes_locatable\n",
    "import os\n",
    "import imageio.v2 as imageio\n",
    "from IPython.display import Image, display, HTML\n",
    "import time\n",
    "from scipy.optimize import curve_fit\n",
    "from natsort import natsorted\n",
    "import torch\n",
    "import torch.nn.functional as F"
   ]
  },
  {
   "cell_type": "code",
   "execution_count": 2,
   "id": "45c9ffde-0b16-4fbc-901a-93696024f7e9",
   "metadata": {},
   "outputs": [],
   "source": [
    "# Constants\n",
    "\n",
    "# The interesting physics parameter :)\n",
    "V_0 = 1\n",
    "# Kinetic coefficient (timescale) should be less than or equal to 1 \n",
    "Gamma = 0.5\n",
    "# Determines the order of the initial state (not used)\n",
    "Delta = 1\n",
    "# Scalar\n",
    "s = 1\n",
    "# Size of lattice\n",
    "N = 256\n",
    "M = N\n",
    "# Time step\n",
    "dt = 0.1\n",
    "# Amount of timesteps I want the simulation to run in units: number divided by size of dt\n",
    "T = 1000\n",
    "# Seed to reproduce the randomization\n",
    "np.random.seed(69420)\n",
    "torch.manual_seed(0)\n",
    "# Determines interval between images saved for plotting\n",
    "step_interval = 10"
   ]
  },
  {
   "cell_type": "code",
   "execution_count": 3,
   "id": "88c4252d-80fd-4dcd-97ee-80578b3321b7",
   "metadata": {},
   "outputs": [
    {
     "data": {
      "text/plain": [
       "'NVIDIA GeForce GTX 1060 3GB'"
      ]
     },
     "execution_count": 3,
     "metadata": {},
     "output_type": "execute_result"
    }
   ],
   "source": [
    "# Just some testing to make sure I'm using the GPU\n",
    "torch.cuda.is_available()\n",
    "torch.cuda.device_count()\n",
    "torch.cuda.current_device()\n",
    "torch.cuda.device(0)\n",
    "torch.cuda.get_device_name(0)"
   ]
  },
  {
   "cell_type": "code",
   "execution_count": 4,
   "id": "c15a7766-c06a-4d67-8012-def53c1fcdaf",
   "metadata": {},
   "outputs": [],
   "source": [
    "# Makes sure the code uses GPU\n",
    "if torch.cuda.is_available():\n",
    "    device = torch.device(\"cuda\")\n",
    "else:\n",
    "    print(\"No GPU available, using CPU.\")\n",
    "    device = torch.device(\"cpu\")"
   ]
  },
  {
   "cell_type": "code",
   "execution_count": 5,
   "id": "3d311c95-892e-470a-8790-4492f2f6c0d0",
   "metadata": {},
   "outputs": [],
   "source": [
    "# Function that initializes a field\n",
    "def create_vector_field(N, M):\n",
    "    vector_field = torch.empty((N, M, 2), device=device)\n",
    "    angle = torch.rand(N, M, device=device) * 2 * np.pi\n",
    "    vector_field[..., 0] = s * torch.cos(angle)\n",
    "    vector_field[..., 1] = s * torch.sin(angle)\n",
    "    return vector_field\n",
    "\n",
    "vector_matrix = create_vector_field(N, M)"
   ]
  },
  {
   "cell_type": "code",
   "execution_count": 6,
   "id": "9f141661-2ee4-4f66-b1b3-8764daace11c",
   "metadata": {},
   "outputs": [],
   "source": [
    "# Function that calculates the angles of a field\n",
    "def angle_from_field(vector_field):\n",
    "    angle_field = torch.atan2(vector_field[..., 1] / s, vector_field[..., 0] / s)\n",
    "    return angle_field\n",
    "\n",
    "# Function that calculates the scalars of a field\n",
    "def scalar_from_field(vector_field):\n",
    "    scalar_field = torch.sqrt(vector_field[..., 0] ** 2 + vector_field[..., 1] ** 2)\n",
    "    return scalar_field"
   ]
  },
  {
   "cell_type": "code",
   "execution_count": 7,
   "id": "c377bd6a-5399-4ba7-8836-87ba9dd03051",
   "metadata": {},
   "outputs": [],
   "source": [
    "# Function that defines the derivative/numerical scheme\n",
    "def vector_field_derivative(vector_field):\n",
    "    up = torch.roll(vector_field, shifts=-1, dims=0)\n",
    "    down = torch.roll(vector_field, shifts=1, dims=0)\n",
    "    left = torch.roll(vector_field, shifts=-1, dims=1)\n",
    "    right = torch.roll(vector_field, shifts=1, dims=1)\n",
    "\n",
    "    non_linear_term = V_0 * 2 * vector_field * (torch.sum(vector_field ** 2, dim=-1, keepdim=True) - 1)\n",
    "    laplacian_term = (up + down + left + right - 4 * vector_field)\n",
    "\n",
    "    vector_field_derived = -Gamma * (non_linear_term - 2 * laplacian_term)\n",
    "    return vector_field_derived"
   ]
  },
  {
   "cell_type": "code",
   "execution_count": 8,
   "id": "331ebbef-5e5d-428d-9b9b-b9224e85ae7f",
   "metadata": {},
   "outputs": [],
   "source": [
    "# Computes next time step\n",
    "def compute_next_step(vector_field, dt):\n",
    "    derivative = vector_field_derivative(vector_field)\n",
    "    vector_field_next_step = vector_field + dt * derivative\n",
    "    return vector_field_next_step\n",
    "\n",
    "# Gets angles and scalars from time step\n",
    "def compute_fields(vector_field):\n",
    "    angle_field = angle_from_field(vector_field)\n",
    "    scalar_field = scalar_from_field(vector_field)\n",
    "    return vector_field, angle_field, scalar_field"
   ]
  },
  {
   "cell_type": "code",
   "execution_count": 9,
   "id": "94bf1f9e-48ab-4493-b9d5-1805470b1dc4",
   "metadata": {},
   "outputs": [],
   "source": [
    "# Defines a peak detection function that works for PyTorch\n",
    "def detect_peaks_torch(scalar_field, min_distance=3, threshold_rel=0.5):\n",
    "    # Reshape to prevent broadcasting errors\n",
    "    scalar_field = scalar_field.unsqueeze(0).unsqueeze(0)\n",
    "    # Defines a field where each position contains the maximum value found in the corresponding neighbourhood of the input field\n",
    "    pooled_field = F.max_pool2d(scalar_field, kernel_size=min_distance*2+1, stride=1, padding=min_distance)\n",
    "    # Checks if a points is isolated from other peaks and if it's a peak itself then appends it\n",
    "    mask = (scalar_field == pooled_field) & (scalar_field > threshold_rel)\n",
    "    coordinates = torch.nonzero(mask.squeeze())\n",
    "    \n",
    "    return coordinates"
   ]
  },
  {
   "cell_type": "code",
   "execution_count": 10,
   "id": "2f7eb147-25a2-4af2-8bcb-b99f8c0ac738",
   "metadata": {},
   "outputs": [],
   "source": [
    "def count_defects(scalar_field):\n",
    "    coordinates = detect_peaks_torch(-scalar_field + 1, min_distance=3, threshold_rel=0.5)\n",
    "    num_defects = len(coordinates)\n",
    "    \n",
    "    return num_defects"
   ]
  },
  {
   "cell_type": "code",
   "execution_count": 11,
   "id": "b077347e-b318-477e-b8f8-2bffb00ae02b",
   "metadata": {},
   "outputs": [
    {
     "name": "stdout",
     "output_type": "stream",
     "text": [
      "12.722109317779541\n"
     ]
    }
   ],
   "source": [
    "# Runs the simulation in time\n",
    "# Comment out the part that saves scalars and angles if they aren't used\n",
    "def time_derivative(vector_field, dt, T):\n",
    "    os.makedirs(\"angle_field_iterations\", exist_ok=True)\n",
    "    os.makedirs(\"scalar_field_iterations\", exist_ok=True)\n",
    "    defect_counts = []\n",
    "\n",
    "    t = torch.arange(0, T, dt, device=device)\n",
    "\n",
    "    for i in range(len(t)):\n",
    "        vector_field = compute_next_step(vector_field, dt)\n",
    "        vector_field_iteration, angle_field, scalar_field = compute_fields(vector_field)\n",
    "\n",
    "        if i % step_interval == 0:\n",
    "            defect_count = count_defects(scalar_field.cpu())\n",
    "            defect_counts.append(defect_count)\n",
    "            torch.save(angle_field.cpu(), f\"angle_field_iterations/angle_field_{i}.pt\")\n",
    "            torch.save(scalar_field.cpu(), f\"scalar_field_iterations/scalar_field_{i}.pt\")\n",
    "\n",
    "    torch.save(defect_counts, \"defect_counts.pt\")\n",
    "\n",
    "    return [\"angle_field_iterations\", \"scalar_field_iterations\"]\n",
    "\n",
    "t0 = time.time()\n",
    "vector_matrix_simulation = time_derivative(vector_matrix, dt, T)\n",
    "t1 = time.time()\n",
    "total_time = t1 - t0\n",
    "print(total_time)"
   ]
  },
  {
   "cell_type": "markdown",
   "id": "ba530a73-955d-4f17-9575-f3e65005d392",
   "metadata": {},
   "source": [
    "### Code that saves the simulation as images and GIFs to display"
   ]
  },
  {
   "cell_type": "code",
   "execution_count": 12,
   "id": "f5da6c13-3ecf-4f07-af11-5c3b74d2f285",
   "metadata": {},
   "outputs": [],
   "source": [
    "# Defines the diretories where our images end up\n",
    "output_dirs = ['angle_field_images', 'scalar_field_images']\n",
    "for dir in output_dirs:\n",
    "    os.makedirs(dir, exist_ok=True)\n",
    "\n",
    "# Gets lists of files in the directories\n",
    "angle_files = natsorted(os.listdir(\"angle_field_iterations\"))\n",
    "scalar_files = natsorted(os.listdir(\"scalar_field_iterations\"))\n",
    "\n",
    "# Iterates over the files and save plots\n",
    "for i in range(0, len(angle_files), step_interval):\n",
    "    angle_field = torch.load(os.path.join(\"angle_field_iterations\", angle_files[i]), weights_only=True)\n",
    "    scalar_field = torch.load(os.path.join(\"scalar_field_iterations\", scalar_files[i]), weights_only=True)\n",
    "\n",
    "    # Saves the angle field image\n",
    "    plt.figure(figsize=(5, 5))\n",
    "    plt.imshow(angle_field, cmap='hsv', interpolation='none', origin='lower', vmin=-np.pi, vmax=np.pi)\n",
    "    plt.colorbar()\n",
    "    plt.title(f'Angles for time step {i}')\n",
    "    plt.savefig(f'angle_field_images/angle_field_{i:03d}.png')\n",
    "    plt.close()\n",
    "\n",
    "    # Saves the scalar field image\n",
    "    plt.figure(figsize=(5, 5))\n",
    "    plt.imshow(scalar_field, cmap='inferno', interpolation='none', origin='lower', vmin=0, vmax=1)\n",
    "    plt.colorbar()\n",
    "    plt.title(f'Scalars for time step {i}')\n",
    "    plt.savefig(f'scalar_field_images/scalar_field_{i:03d}.png')\n",
    "    plt.close()"
   ]
  },
  {
   "cell_type": "code",
   "execution_count": 13,
   "id": "f496960c-215e-4d11-a6fc-21716fdfa681",
   "metadata": {},
   "outputs": [],
   "source": [
    "# Function to create GIF from images\n",
    "def create_gif(image_folder, gif_filename, duration=0.1):\n",
    "    images = []\n",
    "    image_files = natsorted(os.listdir(image_folder))\n",
    "\n",
    "    for image_file in image_files:\n",
    "        filename = os.path.join(image_folder, image_file)\n",
    "        images.append(imageio.imread(filename))\n",
    "        \n",
    "    imageio.mimsave(gif_filename, images, duration=duration)\n",
    "\n",
    "# Create GIFs\n",
    "create_gif('angle_field_images', 'angle_field_animation.gif')\n",
    "create_gif('scalar_field_images', 'scalar_field_animation.gif')"
   ]
  },
  {
   "cell_type": "code",
   "execution_count": 14,
   "id": "6ee97224-5e85-41c1-bd89-322703ae79d1",
   "metadata": {},
   "outputs": [
    {
     "data": {
      "text/html": [
       "\n",
       "<div style=\"display: flex; justify-content: flex-start; align-items: center;\">\n",
       "    <img src=\"angle_field_animation.gif\" alt=\"Angle Field Animation\" style=\"margin: 0; padding: 0; width: 49%;\">\n",
       "    <img src=\"scalar_field_animation.gif\" alt=\"Scalar Field Animation\" style=\"margin: 0; padding: 0; width: 49%;\">\n",
       "</div>\n"
      ],
      "text/plain": [
       "<IPython.core.display.HTML object>"
      ]
     },
     "metadata": {},
     "output_type": "display_data"
    }
   ],
   "source": [
    "# Display GIFs side by side\n",
    "display(HTML(\"\"\"\n",
    "<div style=\"display: flex; justify-content: flex-start; align-items: center;\">\n",
    "    <img src=\"angle_field_animation.gif\" alt=\"Angle Field Animation\" style=\"margin: 0; padding: 0; width: 49%;\">\n",
    "    <img src=\"scalar_field_animation.gif\" alt=\"Scalar Field Animation\" style=\"margin: 0; padding: 0; width: 49%;\">\n",
    "</div>\n",
    "\"\"\"))"
   ]
  },
  {
   "cell_type": "code",
   "execution_count": 15,
   "id": "64f52b3b-b421-436a-96f3-2c7045041df8",
   "metadata": {},
   "outputs": [],
   "source": [
    "# # Plots specific time steps\n",
    "# time_steps = [50, 100, 150]\n",
    "\n",
    "# fig, axes = plt.subplots(3, 2, figsize=(6, 8))\n",
    "\n",
    "# for i, step in enumerate(time_steps):\n",
    "#     angle_field = torch.load(os.path.join('angle_field_iterations', angle_files[step]), weights_only=True)\n",
    "#     scalar_field = torch.load(os.path.join('scalar_field_iterations', scalar_files[step]), weights_only=True)\n",
    "\n",
    "#     ax = axes[i, 0]\n",
    "#     im = ax.imshow(angle_field, cmap='hsv', interpolation='none', origin='lower', vmin=-np.pi, vmax=np.pi)\n",
    "#     ax.set_title(f'Angles for time step {step}', fontsize=10)\n",
    "#     fig.colorbar(im, ax=ax, fraction=0.046, pad=0.04)\n",
    "#     ax.tick_params(axis='both', which='major', labelsize=8)\n",
    "\n",
    "#     ax = axes[i, 1]\n",
    "#     im = ax.imshow(scalar_field, cmap='inferno', interpolation='none', origin='lower', vmin=0, vmax=1)\n",
    "#     ax.set_title(f'Scalars for time step {step}', fontsize=10)\n",
    "#     fig.colorbar(im, ax=ax, fraction=0.046, pad=0.04)\n",
    "#     ax.tick_params(axis='both', which='major', labelsize=8)\n",
    "\n",
    "# plt.tight_layout()\n",
    "# plt.show()"
   ]
  },
  {
   "cell_type": "markdown",
   "id": "076d98e7-eb21-4d3f-b239-aeffcbb7c5df",
   "metadata": {},
   "source": [
    "### Data gathered by running the code with different constants followed by data analysis"
   ]
  },
  {
   "cell_type": "code",
   "execution_count": 17,
   "id": "e0c5fbd1-bdb1-4410-9316-398f3f353027",
   "metadata": {},
   "outputs": [],
   "source": [
    "current_defect_counts = torch.load('defect_counts.pt', weights_only=True)\n",
    "\n",
    "#torch.save(current_defect_counts, 'defect_counts_01.pt')\n",
    "\n",
    "#print(current_defect_counts)\n",
    "\n",
    "# For dt=0.0001, T=10, Gamma=0.5, N=256, step_size=100\n",
    "# Specifically the defect_counts_01 is currently for dt=0.001. Everything else I will try to run for 0.0001 and if that works I will rerun defect_counts_01. Maybe go for T=10000 instead?\n",
    "V_0_values = torch.Tensor([0.1, 1/3, 1, 10/3, 10, 100/3, 100])\n",
    "\n",
    "\n",
    "defect_counts_01 = torch.load('defect_counts_01.pt', weights_only=True)\n",
    "# defect_counts_03 = torch.load('defect_counts_03.pt', weights_only=True)\n",
    "# defect_counts_1 = torch.load('defect_counts_1.pt', weights_only=True)\n",
    "# defect_counts_3 = torch.load('defect_counts_3.pt', weights_only=True)\n",
    "# defect_counts_10 = torch.load('defect_counts_10.pt', weights_only=True)\n",
    "# defect_counts_33 = torch.load('defect_counts_33.pt', weights_only=True)\n",
    "# defect_counts_100 = torch.load('defect_counts_100.pt', weights_only=True)\n"
   ]
  },
  {
   "cell_type": "code",
   "execution_count": 18,
   "id": "6504bf52-90a3-45d4-834f-74ab97b934f5",
   "metadata": {},
   "outputs": [],
   "source": [
    "#print(current_defect_counts)\n",
    "#defect_counts_01 = current_defect_counts"
   ]
  },
  {
   "cell_type": "code",
   "execution_count": 19,
   "id": "cb1d6304-bddd-4586-bb75-d23c975efa43",
   "metadata": {},
   "outputs": [
    {
     "data": {
      "image/png": "[encoded data removed]",
      "text/plain": [
       "<Figure size 1000x500 with 1 Axes>"
      ]
     },
     "metadata": {},
     "output_type": "display_data"
    }
   ],
   "source": [
    "# Define the number of points to remove\n",
    "points_to_remove = 20\n",
    "\n",
    "# Remove the first 300 points from defect_counts and adjust the time steps accordingly\n",
    "filtered_defect_counts = current_defect_counts[points_to_remove:]\n",
    "filtered_defect_counts_01 = defect_counts_01[points_to_remove:]\n",
    "# filtered_defect_counts_03 = defect_counts_03[points_to_remove:]\n",
    "# filtered_defect_counts_1 = defect_counts_1[points_to_remove:]\n",
    "# filtered_defect_counts_3 = defect_counts_3[points_to_remove:]\n",
    "# filtered_defect_counts_11 = defect_counts_11[points_to_remove:]\n",
    "\n",
    "filtered_time_steps = np.arange(points_to_remove * step_interval, len(current_defect_counts) * step_interval, step_interval)\n",
    "filtered_time = filtered_time_steps * dt\n",
    "\n",
    "# Plot the number of defects over time\n",
    "plt.figure(figsize=(10, 5))\n",
    "plt.plot(filtered_time_steps, filtered_defect_counts, marker='o', label='Current simulation')\n",
    "#plt.plot(filtered_time, filtered_defect_counts_01, marker='o', label='V_0=0.1')\n",
    "# plt.plot(filtered_time, filtered_defect_counts_03, marker='o', label='V_0=1/3')\n",
    "# plt.plot(filtered_time, filtered_defect_counts_1, marker='o', label='V_0=1')\n",
    "# plt.plot(filtered_time, filtered_defect_counts_3, marker='o', label='V_0=10/3')\n",
    "\n",
    "\n",
    "plt.yscale('log')\n",
    "plt.xscale('log')\n",
    "plt.xlabel('Time')\n",
    "plt.ylabel('Number of defects')\n",
    "plt.title('Number of defects over time for different values of $V_0$')\n",
    "plt.grid(True)\n",
    "plt.legend()\n",
    "plt.show()"
   ]
  }
 ],
 "metadata": {
  "kernelspec": {
   "display_name": "Python 3 (ipykernel)",
   "language": "python",
   "name": "python3"
  },
  "language_info": {
   "codemirror_mode": {
    "name": "ipython",
    "version": 3
   },
   "file_extension": ".py",
   "mimetype": "text/x-python",
   "name": "python",
   "nbconvert_exporter": "python",
   "pygments_lexer": "ipython3",
   "version": "3.12.3"
  }
 },
 "nbformat": 4,
 "nbformat_minor": 5
}
